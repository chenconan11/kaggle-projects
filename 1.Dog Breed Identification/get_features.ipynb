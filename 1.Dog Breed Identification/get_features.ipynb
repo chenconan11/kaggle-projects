{
 "cells": [
  {
   "cell_type": "code",
   "execution_count": 1,
   "metadata": {},
   "outputs": [],
   "source": [
    "import torch\n",
    "import torch.nn as nn\n",
    "from torchvision import models\n",
    "from train import read_data"
   ]
  },
  {
   "cell_type": "code",
   "execution_count": 2,
   "metadata": {},
   "outputs": [],
   "source": [
    "class Features(nn.Module):\n",
    "    def __init__(self, arch):\n",
    "        super(Features, self).__init__()\n",
    "        \n",
    "        if arch == 'resnet152':\n",
    "            model = models.resnet152(pretrained=True)\n",
    "            self.features = nn.Sequential(*list(model.children())[:-1])\n",
    "        elif arch == 'densenet169':\n",
    "            model = models.densenet169(pretrained=True)\n",
    "            self.features = nn.Sequential(*list(model.children())[:-1])\n",
    "            self.features.add_module('relu_e', nn.ReLU(inplace=True))\n",
    "            self.features.add_module('avg_pool_e', nn.AdaptiveAvgPool2d((1, 1)))\n",
    "        elif arch == 'inception_v3':\n",
    "            model = models.inception_v3(pretrained=True)\n",
    "            self.features = nn.Sequential(*list(model.children())[:-1])\n",
    "            self.features._modules.pop('13')\n",
    "            self.features.add_module('avg pool', nn.AvgPool2d(35))\n",
    "        else:\n",
    "            raise Exception(\"arch error\")\n",
    "            \n",
    "        \n",
    "        for param in self.features.parameters():\n",
    "            param.requires_grad = False\n",
    "            \n",
    "    def forward(self, x):\n",
    "        x = self.features(x)\n",
    "        x = x.view(x.size(0), -1)\n",
    "        return x\n",
    "            "
   ]
  },
  {
   "cell_type": "code",
   "execution_count": 3,
   "metadata": {},
   "outputs": [],
   "source": [
    "train_features = {\n",
    "    'resnet152': [],\n",
    "    'densenet169': [],\n",
    "    'inception_v3': []    \n",
    "}\n",
    "valid_features = {\n",
    "    'resnet152': [],\n",
    "    'densenet169': [],\n",
    "    'inception_v3': []    \n",
    "}\n",
    "test_features = {\n",
    "    'resnet152': [],\n",
    "    'densenet169': [],\n",
    "    'inception_v3': []    \n",
    "}"
   ]
  },
  {
   "cell_type": "code",
   "execution_count": 4,
   "metadata": {},
   "outputs": [],
   "source": [
    "split_p = 0.2\n",
    "batch_size = 64\n",
    "labels_csv = './labels.csv'"
   ]
  },
  {
   "cell_type": "code",
   "execution_count": null,
   "metadata": {},
   "outputs": [],
   "source": [
    "root = 'D:/DATA/dog breed'\n",
    "train_data = read_data(root + '/train', 'train', labels_csv, split_p=split_p)\n",
    "valid_data = read_data(root + '/train', 'valid', labels_csv, split_p=split_p)\n",
    "test_data = read_data(root + '/test', 'test', labels_csv, split_p=0)"
   ]
  },
  {
   "cell_type": "code",
   "execution_count": null,
   "metadata": {},
   "outputs": [],
   "source": [
    "train_dataloader = torch.utils.data.DataLoader(dataset=train_data, batch_size=batch_size)\n",
    "valid_dataloader = torch.utils.data.DataLoader(dataset=valid_data, batch_size=batch_size)\n",
    "test_dataloader = torch.utils.data.DataLoader(dataset=test_data, batch_size=batch_size)"
   ]
  },
  {
   "cell_type": "code",
   "execution_count": null,
   "metadata": {},
   "outputs": [],
   "source": [
    "def get_features_labels(arch, data_loader, feature_list):\n",
    "    print('{} begining...'.format(arch))\n",
    "    model = Features(arch)\n",
    "    if torch.cuda.is_available():\n",
    "        model.cuda()\n",
    "        torch.backends.cudnn.benchmark = True\n",
    "    with torch.no_grad():\n",
    "        for x, y in data_loader:\n",
    "            if torch.cuda.is_available():\n",
    "                x = x.cuda()\n",
    "                z = model(x)\n",
    "                feature_list.extend((f, l) for f, l in zip(z.cpu(), y))\n",
    "    torch.cuda.empty_cache()\n",
    "    print('{} done...'.format(arch))"
   ]
  },
  {
   "cell_type": "code",
   "execution_count": null,
   "metadata": {},
   "outputs": [],
   "source": [
    "def get_features(arch, test_loader, feature_list):\n",
    "    print('{} begining...'.format(arch))\n",
    "    model = Features(arch)\n",
    "    if torch.cuda.is_available():\n",
    "        model.cuda()\n",
    "        torch.backends.cudnn.benchmark = True\n",
    "    with torch.no_grad():\n",
    "        for x in test_loader:\n",
    "            if torch.cuda.is_available():\n",
    "                x = x.cuda()\n",
    "                z = model(x)\n",
    "                feature_list.extend(z.cpu())\n",
    "    torch.cuda.empty_cache()\n",
    "    print('{} done...'.format(arch))"
   ]
  },
  {
   "cell_type": "code",
   "execution_count": null,
   "metadata": {
    "scrolled": true
   },
   "outputs": [
    {
     "name": "stdout",
     "output_type": "stream",
     "text": [
      "resnet152 begining...\n",
      "resnet152 done...\n",
      "densenet169 begining...\n"
     ]
    },
    {
     "name": "stderr",
     "output_type": "stream",
     "text": [
      "C:\\Users\\ANG\\AppData\\Local\\conda\\conda\\envs\\ml\\lib\\site-packages\\torchvision\\models\\densenet.py:212: UserWarning: nn.init.kaiming_normal is now deprecated in favor of nn.init.kaiming_normal_.\n",
      "  nn.init.kaiming_normal(m.weight.data)\n"
     ]
    },
    {
     "name": "stdout",
     "output_type": "stream",
     "text": [
      "densenet169 done...\n"
     ]
    }
   ],
   "source": [
    "for arch, feature_list in train_features.items():\n",
    "    if arch != 'inception_v3':\n",
    "        get_features_labels(arch, train_dataloader, feature_list)"
   ]
  },
  {
   "cell_type": "code",
   "execution_count": null,
   "metadata": {},
   "outputs": [
    {
     "name": "stdout",
     "output_type": "stream",
     "text": [
      "resnet152 begining...\n",
      "resnet152 done...\n",
      "densenet169 begining...\n",
      "densenet169 done...\n"
     ]
    }
   ],
   "source": [
    "for arch, feature_list in valid_features.items():\n",
    "    if arch != 'inception_v3':\n",
    "        get_features_labels(arch, valid_dataloader, feature_list)"
   ]
  },
  {
   "cell_type": "code",
   "execution_count": null,
   "metadata": {},
   "outputs": [
    {
     "name": "stdout",
     "output_type": "stream",
     "text": [
      "resnet152 begining...\n",
      "resnet152 done...\n",
      "densenet169 begining...\n",
      "densenet169 done...\n"
     ]
    }
   ],
   "source": [
    "for arch, feature_list in test_features.items():\n",
    "    if arch != 'inception_v3':\n",
    "        get_features(arch, test_dataloader, feature_list)"
   ]
  },
  {
   "cell_type": "code",
   "execution_count": null,
   "metadata": {},
   "outputs": [
    {
     "name": "stdout",
     "output_type": "stream",
     "text": [
      "inception_v3 begining...\n",
      "inception_v3 done...\n",
      "inception_v3 begining...\n",
      "inception_v3 done...\n",
      "inception_v3 begining...\n"
     ]
    }
   ],
   "source": [
    "root = 'D:/DATA/dog breed'\n",
    "train_data = read_data(root + '/train', 'train', labels_csv, split_p=split_p, mean=[0.5,0.5,0.5], std=[0.5,0.5,0.5])\n",
    "valid_data = read_data(root + '/train', 'valid', labels_csv, split_p=split_p, mean=[0.5,0.5,0.5], std=[0.5,0.5,0.5])\n",
    "test_data = read_data(root + '/test', 'test', labels_csv, split_p=0, mean=[0.5,0.5,0.5], std=[0.5,0.5,0.5])\n",
    "\n",
    "train_dataloader = torch.utils.data.DataLoader(dataset=train_data, batch_size=batch_size)\n",
    "valid_dataloader = torch.utils.data.DataLoader(dataset=valid_data, batch_size=batch_size)\n",
    "test_dataloader = torch.utils.data.DataLoader(dataset=test_data, batch_size=batch_size)\n",
    "\n",
    "get_features_labels('inception_v3', train_dataloader, train_features['inception_v3'])\n",
    "get_features_labels('inception_v3', valid_dataloader, valid_features['inception_v3'])\n",
    "get_features('inception_v3', test_dataloader, test_features['inception_v3'])"
   ]
  },
  {
   "cell_type": "code",
   "execution_count": null,
   "metadata": {},
   "outputs": [],
   "source": [
    "torch.save(train_features, root + '/train_features.pth')\n",
    "torch.save(valid_features, root + '/valid_features.pth')\n",
    "torch.save(test_features, root + '/test_features.pth')"
   ]
  },
  {
   "cell_type": "code",
   "execution_count": null,
   "metadata": {},
   "outputs": [],
   "source": []
  }
 ],
 "metadata": {
  "kernelspec": {
   "display_name": "Python 3",
   "language": "python",
   "name": "python3"
  },
  "language_info": {
   "codemirror_mode": {
    "name": "ipython",
    "version": 3
   },
   "file_extension": ".py",
   "mimetype": "text/x-python",
   "name": "python",
   "nbconvert_exporter": "python",
   "pygments_lexer": "ipython3",
   "version": "3.6.8"
  }
 },
 "nbformat": 4,
 "nbformat_minor": 2
}
